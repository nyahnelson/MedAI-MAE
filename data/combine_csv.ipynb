{
 "cells": [
  {
   "cell_type": "code",
   "execution_count": 1,
   "metadata": {},
   "outputs": [],
   "source": [
    "import pandas as pd"
   ]
  },
  {
   "cell_type": "code",
   "execution_count": 14,
   "metadata": {},
   "outputs": [],
   "source": [
    "# combine the .csv files into one .csv file\n",
    "\n",
    "# section 4 csv\n",
    "section4 = 'section4/section4.csv'\n",
    "df_4 = pd.read_csv(section4)\n",
    "print('read section4.csv')\n",
    "#df_4.head()\n",
    "\n",
    "# section 5 csv\n",
    "section5 = 'section5/section5.csv'\n",
    "df_5 = pd.read_csv(section5)\n",
    "print('read section5.csv')\n",
    "\n",
    "# section 7 csv\n",
    "section7 = 'section7/section7.csv'\n",
    "df_7 = pd.read_csv(section7)\n",
    "print('read section7.csv')\n",
    "\n",
    "# section 8 csv\n",
    "section8 = 'section8/section8.csv'\n",
    "df_8 = pd.read_csv(section8)\n",
    "print('read section8.csv')\n",
    "\n",
    "# combine the dataframes to one dataframe\n",
    "df_all = [df_4, df_5, df_7, df_8]\n",
    "df = pd.DataFrame()\n",
    "df = pd.concat(df_all, ignore_index=True)\n",
    "\n",
    "# write new dataframe to csv file\n",
    "df.to_csv('HMSS.csv', index=False)"
   ]
  }
 ],
 "metadata": {
  "kernelspec": {
   "display_name": "base",
   "language": "python",
   "name": "python3"
  },
  "language_info": {
   "codemirror_mode": {
    "name": "ipython",
    "version": 3
   },
   "file_extension": ".py",
   "mimetype": "text/x-python",
   "name": "python",
   "nbconvert_exporter": "python",
   "pygments_lexer": "ipython3",
   "version": "3.11.4"
  },
  "orig_nbformat": 4,
  "vscode": {
   "interpreter": {
    "hash": "946e85727053cf3aa9c9f3f7fedca17119c324c882ebd65fbc35521c9647d1eb"
   }
  }
 },
 "nbformat": 4,
 "nbformat_minor": 2
}

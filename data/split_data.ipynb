{
 "cells": [
  {
   "cell_type": "code",
   "execution_count": null,
   "metadata": {},
   "outputs": [],
   "source": [
    "# split data in imgs folder into training and validation sets for the MAE fine-tuning"
   ]
  },
  {
   "cell_type": "code",
   "execution_count": 27,
   "metadata": {},
   "outputs": [],
   "source": [
    "import os\n",
    "import numpy as np \n",
    "import splitfolders\n"
   ]
  },
  {
   "cell_type": "code",
   "execution_count": 30,
   "metadata": {},
   "outputs": [
    {
     "name": "stderr",
     "output_type": "stream",
     "text": [
      "Copying files: 14 files [00:00, 527.25 files/s]\n"
     ]
    }
   ],
   "source": [
    "# save data to folder\n",
    "\n",
    "input_dir = 'IMGS/'\n",
    "output_dir = 'IMAGE_DIR/'\n",
    "\n",
    "split_ratio = (.8, .2) # 80% train, 20% validation, 0% test \n",
    "\n",
    "splitfolders.ratio(input_dir, output=output_dir, seed=1337, ratio=split_ratio, group_prefix=None)\n",
    "    "
   ]
  }
 ],
 "metadata": {
  "kernelspec": {
   "display_name": "base",
   "language": "python",
   "name": "python3"
  },
  "language_info": {
   "codemirror_mode": {
    "name": "ipython",
    "version": 3
   },
   "file_extension": ".py",
   "mimetype": "text/x-python",
   "name": "python",
   "nbconvert_exporter": "python",
   "pygments_lexer": "ipython3",
   "version": "3.11.4"
  },
  "orig_nbformat": 4,
  "vscode": {
   "interpreter": {
    "hash": "946e85727053cf3aa9c9f3f7fedca17119c324c882ebd65fbc35521c9647d1eb"
   }
  }
 },
 "nbformat": 4,
 "nbformat_minor": 2
}

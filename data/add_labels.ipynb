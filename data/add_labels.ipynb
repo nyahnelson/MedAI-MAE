{
 "cells": [
  {
   "cell_type": "code",
   "execution_count": null,
   "metadata": {},
   "outputs": [],
   "source": [
    "# add columns to HMSS dataset "
   ]
  },
  {
   "cell_type": "code",
   "execution_count": 1,
   "metadata": {},
   "outputs": [],
   "source": [
    "# libraries\n",
    "import pandas as pd"
   ]
  },
  {
   "cell_type": "code",
   "execution_count": 2,
   "metadata": {},
   "outputs": [
    {
     "name": "stdout",
     "output_type": "stream",
     "text": [
      "read HMSS\n"
     ]
    }
   ],
   "source": [
    "# path to HMSS dataset csv\n",
    "HMSS_path = 'HMSS.csv'\n",
    "\n",
    "# read csv into dataframe\n",
    "df_HMSS = pd.read_csv(HMSS_path)\n",
    "print(\"read HMSS\")\n"
   ]
  },
  {
   "cell_type": "code",
   "execution_count": 3,
   "metadata": {},
   "outputs": [
    {
     "data": {
      "text/html": [
       "<div>\n",
       "<style scoped>\n",
       "    .dataframe tbody tr th:only-of-type {\n",
       "        vertical-align: middle;\n",
       "    }\n",
       "\n",
       "    .dataframe tbody tr th {\n",
       "        vertical-align: top;\n",
       "    }\n",
       "\n",
       "    .dataframe thead th {\n",
       "        text-align: right;\n",
       "    }\n",
       "</style>\n",
       "<table border=\"1\" class=\"dataframe\">\n",
       "  <thead>\n",
       "    <tr style=\"text-align: right;\">\n",
       "      <th></th>\n",
       "      <th>group</th>\n",
       "      <th>subgroup</th>\n",
       "      <th>subgroup url</th>\n",
       "      <th>case description</th>\n",
       "      <th>img url</th>\n",
       "      <th>img name</th>\n",
       "      <th>sex</th>\n",
       "      <th>age</th>\n",
       "      <th>body part</th>\n",
       "    </tr>\n",
       "  </thead>\n",
       "  <tbody>\n",
       "    <tr>\n",
       "      <th>0</th>\n",
       "      <td>4.1 Thyroid gland</td>\n",
       "      <td>4.1.1 Thyroid congenital abnormalities</td>\n",
       "      <td>https://www.ultrasoundcases.info//cases/head-a...</td>\n",
       "      <td>Hypoplasia of the left thyroid lobe</td>\n",
       "      <td>https://www.ultrasoundcases.info/clients/ultra...</td>\n",
       "      <td>1463.jpg</td>\n",
       "      <td>NaN</td>\n",
       "      <td>NaN</td>\n",
       "      <td>NaN</td>\n",
       "    </tr>\n",
       "    <tr>\n",
       "      <th>1</th>\n",
       "      <td>4.1 Thyroid gland</td>\n",
       "      <td>4.1.1 Thyroid congenital abnormalities</td>\n",
       "      <td>https://www.ultrasoundcases.info//cases/head-a...</td>\n",
       "      <td>Hypoplasia of the left thyroid lobe</td>\n",
       "      <td>https://www.ultrasoundcases.info/clients/ultra...</td>\n",
       "      <td>1464.jpg</td>\n",
       "      <td>NaN</td>\n",
       "      <td>NaN</td>\n",
       "      <td>NaN</td>\n",
       "    </tr>\n",
       "    <tr>\n",
       "      <th>2</th>\n",
       "      <td>4.1 Thyroid gland</td>\n",
       "      <td>4.1.1 Thyroid congenital abnormalities</td>\n",
       "      <td>https://www.ultrasoundcases.info//cases/head-a...</td>\n",
       "      <td>Hypoplasia of the left thyroid lobe</td>\n",
       "      <td>https://www.ultrasoundcases.info/clients/ultra...</td>\n",
       "      <td>1465.jpg</td>\n",
       "      <td>NaN</td>\n",
       "      <td>NaN</td>\n",
       "      <td>NaN</td>\n",
       "    </tr>\n",
       "    <tr>\n",
       "      <th>3</th>\n",
       "      <td>4.1 Thyroid gland</td>\n",
       "      <td>4.1.1 Thyroid congenital abnormalities</td>\n",
       "      <td>https://www.ultrasoundcases.info//cases/head-a...</td>\n",
       "      <td>Hypoplastic left thyroid lobe and a benign cys...</td>\n",
       "      <td>https://www.ultrasoundcases.info/clients/ultra...</td>\n",
       "      <td>19557.jpg</td>\n",
       "      <td>Female</td>\n",
       "      <td>54</td>\n",
       "      <td>Thyroid gland</td>\n",
       "    </tr>\n",
       "    <tr>\n",
       "      <th>4</th>\n",
       "      <td>4.1 Thyroid gland</td>\n",
       "      <td>4.1.1 Thyroid congenital abnormalities</td>\n",
       "      <td>https://www.ultrasoundcases.info//cases/head-a...</td>\n",
       "      <td>Hypoplastic left thyroid lobe and a benign cys...</td>\n",
       "      <td>https://www.ultrasoundcases.info/clients/ultra...</td>\n",
       "      <td>19558.jpg</td>\n",
       "      <td>Female</td>\n",
       "      <td>54</td>\n",
       "      <td>Thyroid gland</td>\n",
       "    </tr>\n",
       "  </tbody>\n",
       "</table>\n",
       "</div>"
      ],
      "text/plain": [
       "               group                                subgroup  \\\n",
       "0  4.1 Thyroid gland  4.1.1 Thyroid congenital abnormalities   \n",
       "1  4.1 Thyroid gland  4.1.1 Thyroid congenital abnormalities   \n",
       "2  4.1 Thyroid gland  4.1.1 Thyroid congenital abnormalities   \n",
       "3  4.1 Thyroid gland  4.1.1 Thyroid congenital abnormalities   \n",
       "4  4.1 Thyroid gland  4.1.1 Thyroid congenital abnormalities   \n",
       "\n",
       "                                        subgroup url  \\\n",
       "0  https://www.ultrasoundcases.info//cases/head-a...   \n",
       "1  https://www.ultrasoundcases.info//cases/head-a...   \n",
       "2  https://www.ultrasoundcases.info//cases/head-a...   \n",
       "3  https://www.ultrasoundcases.info//cases/head-a...   \n",
       "4  https://www.ultrasoundcases.info//cases/head-a...   \n",
       "\n",
       "                                    case description  \\\n",
       "0                Hypoplasia of the left thyroid lobe   \n",
       "1                Hypoplasia of the left thyroid lobe   \n",
       "2                Hypoplasia of the left thyroid lobe   \n",
       "3  Hypoplastic left thyroid lobe and a benign cys...   \n",
       "4  Hypoplastic left thyroid lobe and a benign cys...   \n",
       "\n",
       "                                             img url   img name     sex  age  \\\n",
       "0  https://www.ultrasoundcases.info/clients/ultra...   1463.jpg     NaN  NaN   \n",
       "1  https://www.ultrasoundcases.info/clients/ultra...   1464.jpg     NaN  NaN   \n",
       "2  https://www.ultrasoundcases.info/clients/ultra...   1465.jpg     NaN  NaN   \n",
       "3  https://www.ultrasoundcases.info/clients/ultra...  19557.jpg  Female   54   \n",
       "4  https://www.ultrasoundcases.info/clients/ultra...  19558.jpg  Female   54   \n",
       "\n",
       "       body part  \n",
       "0            NaN  \n",
       "1            NaN  \n",
       "2            NaN  \n",
       "3  Thyroid gland  \n",
       "4  Thyroid gland  "
      ]
     },
     "execution_count": 3,
     "metadata": {},
     "output_type": "execute_result"
    }
   ],
   "source": [
    "df_HMSS.head()"
   ]
  },
  {
   "cell_type": "code",
   "execution_count": 4,
   "metadata": {},
   "outputs": [],
   "source": [
    "# add label to HMSS\n",
    "\n",
    "df_HMSS.loc[df_HMSS['group'] == '5.2 Malignant breast lesions', 'label'] = 'malignant'\n",
    "\n",
    "df_HMSS.loc[df_HMSS['group'] == '5.1 Benign lesions', 'label'] = 'benign'\n",
    "\n",
    "df_HMSS['dataset'] = 'HMSS'\n"
   ]
  },
  {
   "cell_type": "code",
   "execution_count": 6,
   "metadata": {},
   "outputs": [],
   "source": [
    "df_HMSS.loc[df_HMSS['subgroup'] == '4.1.2 Thyroid benign lesions', 'label'] = 'benign'\n",
    "\n",
    "df_HMSS.loc[df_HMSS['subgroup'] == '4.1.3 Thyroid malignant lesions', 'label'] = 'malignant'\n"
   ]
  },
  {
   "cell_type": "code",
   "execution_count": 16,
   "metadata": {},
   "outputs": [],
   "source": [
    "df_HMSS.loc[df_HMSS['subgroup'] == '4.3.5 Malignant salivary gland tumors', 'label'] = 'malignant'"
   ]
  },
  {
   "cell_type": "code",
   "execution_count": 25,
   "metadata": {},
   "outputs": [],
   "source": [
    "df_HMSS.loc[df_HMSS['subgroup'] == '4.4.1 Benign lymph nodes', 'label'] = 'benign'\n",
    "\n",
    "df_HMSS.loc[df_HMSS['subgroup'] == '4.4.2 Malignant lymph nodes', 'label'] = 'malignant'"
   ]
  },
  {
   "cell_type": "code",
   "execution_count": 29,
   "metadata": {},
   "outputs": [],
   "source": [
    "df_HMSS.loc[df_HMSS['subgroup'] == '5.8.2 Malignant breast tumors in male patients', 'label'] = 'malignant'"
   ]
  },
  {
   "cell_type": "code",
   "execution_count": 30,
   "metadata": {},
   "outputs": [],
   "source": [
    "df_HMSS.loc[df_HMSS['subgroup'] == '7.4.1 Benign lymph nodes in the neck', 'label'] = 'benign'\n",
    "\n",
    "df_HMSS.loc[df_HMSS['subgroup'] == '7.4.2 Malignant lymph nodes in the neck', 'label'] = 'malignant'"
   ]
  },
  {
   "cell_type": "code",
   "execution_count": 42,
   "metadata": {},
   "outputs": [],
   "source": [
    "df_HMSS.loc[df_HMSS['subgroup'] == '7.5.3 Miscellaneous benign soft tissues lesions', 'label'] = 'benign'\n",
    "\n",
    "df_HMSS.loc[df_HMSS['subgroup'] == '7.5.4 Malignant soft tissue tumors', 'label'] = 'malignant'"
   ]
  },
  {
   "cell_type": "code",
   "execution_count": 47,
   "metadata": {},
   "outputs": [],
   "source": [
    "df_HMSS.loc[df_HMSS['subgroup'] == '8.4.2 Malignant lesions and metastases', 'label'] = 'malignant'\n",
    "\n",
    "df_HMSS.loc[df_HMSS['subgroup'] == '8.4.5 Benign soft tissue lesions and various', 'label'] = 'benign'"
   ]
  },
  {
   "cell_type": "code",
   "execution_count": 50,
   "metadata": {},
   "outputs": [
    {
     "data": {
      "text/plain": [
       "malignant    4253\n",
       "benign       2258\n",
       "Name: label, dtype: int64"
      ]
     },
     "execution_count": 50,
     "metadata": {},
     "output_type": "execute_result"
    }
   ],
   "source": [
    "df_HMSS['label'].value_counts()"
   ]
  },
  {
   "cell_type": "code",
   "execution_count": 55,
   "metadata": {},
   "outputs": [],
   "source": [
    "# remove rows without a label \n",
    "\n",
    "df_HMSS.dropna(subset=['label'], inplace=True)"
   ]
  },
  {
   "cell_type": "code",
   "execution_count": 57,
   "metadata": {},
   "outputs": [],
   "source": [
    "# write new dataframe to csv file\n",
    "df_HMSS.to_csv('HMSS_labels.csv', index=False)"
   ]
  },
  {
   "cell_type": "code",
   "execution_count": null,
   "metadata": {},
   "outputs": [],
   "source": []
  }
 ],
 "metadata": {
  "kernelspec": {
   "display_name": "base",
   "language": "python",
   "name": "python3"
  },
  "language_info": {
   "codemirror_mode": {
    "name": "ipython",
    "version": 3
   },
   "file_extension": ".py",
   "mimetype": "text/x-python",
   "name": "python",
   "nbconvert_exporter": "python",
   "pygments_lexer": "ipython3",
   "version": "3.11.4"
  },
  "orig_nbformat": 4,
  "vscode": {
   "interpreter": {
    "hash": "946e85727053cf3aa9c9f3f7fedca17119c324c882ebd65fbc35521c9647d1eb"
   }
  }
 },
 "nbformat": 4,
 "nbformat_minor": 2
}
